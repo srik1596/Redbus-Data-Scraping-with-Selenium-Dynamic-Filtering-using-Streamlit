{
 "cells": [
  {
   "cell_type": "code",
   "execution_count": 9,
   "id": "cac92e85-ed34-4c9d-80c1-f74c887bc07b",
   "metadata": {},
   "outputs": [
    {
     "name": "stdout",
     "output_type": "stream",
     "text": [
      "Collecting pymysqlNote: you may need to restart the kernel to use updated packages.\n",
      "\n",
      "  Downloading PyMySQL-1.1.1-py3-none-any.whl.metadata (4.4 kB)\n",
      "Downloading PyMySQL-1.1.1-py3-none-any.whl (44 kB)\n",
      "   ---------------------------------------- 0.0/45.0 kB ? eta -:--:--\n",
      "   --------- ------------------------------ 10.2/45.0 kB ? eta -:--:--\n",
      "   --------------------------- ------------ 30.7/45.0 kB 330.3 kB/s eta 0:00:01\n",
      "   ---------------------------------------- 45.0/45.0 kB 369.5 kB/s eta 0:00:00\n",
      "Installing collected packages: pymysql\n",
      "Successfully installed pymysql-1.1.1\n"
     ]
    }
   ],
   "source": [
    "pip install pymysql"
   ]
  },
  {
   "cell_type": "code",
   "execution_count": 27,
   "id": "2270ea4b-cea7-43fa-9767-8cb3bddcd335",
   "metadata": {},
   "outputs": [],
   "source": [
    "import pandas as pd\n",
    "import pymysql\n",
    "\"\"\"\"df = pd.read_csv('kaac_details.csv')\n",
    "df = pd.read_csv('North_Bengal_Bus_details.csv')\n",
    "df = pd.read_csv('Jammu_Kashmir_details.csv')\n",
    "df = pd.read_csv('West_Bengal_Bus_details.csv')\n",
    "df = pd.read_csv('Kadamba_Bus_details.csv')\n",
    "df = pd.read_csv('Chandighar_Bus_details.csv')\n",
    "df = pd.read_csv('Assam_Bus_details.csv')\n",
    "df = pd.read_csv('Bihar.csv')\n",
    "df = pd.read_csv('South_Bengal.csv')\n",
    "df = pd.read_csv('Himachal.csv')\"\"\"\n",
    "\n",
    "# List of CSV file path\n",
    "csv_files = ['kaac_details.csv', 'North_Bengal_Bus_details.csv', 'Jammu_Kashmir_details.csv', 'West_Bengal_Bus_details.csv', 'Kadamba_Bus_details.csv',\n",
    "            'Chandighar_Bus_details.csv', 'Assam_Bus_details.csv', 'Bihar.csv', 'South_Bengal.csv', 'Himachal.csv']\n",
    "\n",
    "# Read and concatenate all CSVs\n",
    "df_list = [pd.read_csv(file) for file in csv_files]\n",
    "combined_df = pd.concat(df_list, ignore_index=True)\n",
    "\n",
    "#Data Cleaning\n",
    "combined_df['Price'] = combined_df['Price'].astype(str).str.replace('INR ', '', regex=False)\n",
    "combined_df['Seat_Availability'] = combined_df['Seat_Availability'].astype(str).str.extract(r'(\\d+)')\n",
    "combined_df.dropna(inplace=True)\n",
    "\n",
    "#Add ID column\n",
    "combined_df.insert(0, 'id', range(1, len(combined_df) + 1))\n",
    "\n",
    "#Save to new CSV\n",
    "combined_df.to_csv(\"bus_routes.csv\", index=False)\n",
    "\n",
    "#MySQL Database Connection\n",
    "connection = pymysql.connect(\n",
    "    host='127.0.0.1',\n",
    "    user='root',\n",
    "    passwd='root',\n",
    "    database='redbus'\n",
    ")\n",
    "cursor = connection.cursor()\n",
    "\n",
    "#Generate MySQL schema from DataFrame dtypes\n",
    "dtype_mapping = {\n",
    "    'int64': 'INT',\n",
    "    'float64': 'FLOAT',\n",
    "    'object': 'TEXT'\n",
    "}\n",
    "columns_with_types = \", \".join(\n",
    "    f\"`{col}` {dtype_mapping[str(dtype)]}\" for col, dtype in combined_df.dtypes.items()\n",
    ") \n",
    "\n",
    "#Create Table\n",
    "table_name = \"bus_routes\"\n",
    "cursor.execute(f\"DROP TABLE IF EXISTS {table_name}\")\n",
    "cursor.execute(f\"CREATE TABLE {table_name} ({columns_with_types})\")\n",
    "\n",
    "#Insert data row by row\n",
    "for _, row in combined_df.iterrows():\n",
    "    placeholders = ', '.join(['%s'] * len(row))\n",
    "    insert_query = f\"INSERT INTO {table_name} VALUES ({placeholders})\"\n",
    "    cursor.execute(insert_query, tuple(row))\n",
    "    connection.commit()\n",
    "\n",
    "#Clean up\n",
    "cursor.close()\n",
    "connection.close()\n"
   ]
  },
  {
   "cell_type": "code",
   "execution_count": null,
   "id": "c8670a4b-3636-40c9-8bc7-c6a21286038c",
   "metadata": {},
   "outputs": [],
   "source": []
  }
 ],
 "metadata": {
  "kernelspec": {
   "display_name": "Python 3 (ipykernel)",
   "language": "python",
   "name": "python3"
  },
  "language_info": {
   "codemirror_mode": {
    "name": "ipython",
    "version": 3
   },
   "file_extension": ".py",
   "mimetype": "text/x-python",
   "name": "python",
   "nbconvert_exporter": "python",
   "pygments_lexer": "ipython3",
   "version": "3.12.4"
  }
 },
 "nbformat": 4,
 "nbformat_minor": 5
}
